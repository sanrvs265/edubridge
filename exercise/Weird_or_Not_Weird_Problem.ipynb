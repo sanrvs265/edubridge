{
 "cells": [
  {
   "cell_type": "markdown",
   "id": "9a83fe7d",
   "metadata": {},
   "source": [
    "##### Given an integer,n, perform the following conditional actions:\n",
    "\n",
    "If is odd, print Weird\n",
    "\n",
    "If is even and n in the inclusive range of 2 to 5, print Not Weird\n",
    "\n",
    "If is even and n in the inclusive range of 6 to 20, print Weird\n",
    "\n",
    "If is even and n greater than 20 , print Not Weird\n",
    "\n",
    "###### Input Format\n",
    "\n",
    "A single line containing a positive integer, n.\n",
    "\n",
    "###### Constraints\n",
    "\n",
    "1<=n<=100\n",
    "\n",
    "###### Output Format\n",
    "\n",
    "Print Weird if the number is weird. Otherwise, print Not Weird ."
   ]
  },
  {
   "cell_type": "code",
   "execution_count": 10,
   "id": "1eab7710",
   "metadata": {},
   "outputs": [
    {
     "name": "stdout",
     "output_type": "stream",
     "text": [
      "Enter the Number: 17\n",
      "Weird\n"
     ]
    }
   ],
   "source": [
    "n=int(input(\"Enter the Number: \"))\n",
    "if n%2==1:\n",
    "    print(\"Weird\")\n",
    "elif n in range(2,6) and n%2==0:\n",
    "    print(\"Not Weird\")\n",
    "elif n in range(6,21) and n%2==0:\n",
    "    print(\"Weird\")\n",
    "elif n>20 and n%2==0:\n",
    "    print(\"Not Weird\")"
   ]
  }
 ],
 "metadata": {
  "kernelspec": {
   "display_name": "Python 3 (ipykernel)",
   "language": "python",
   "name": "python3"
  },
  "language_info": {
   "codemirror_mode": {
    "name": "ipython",
    "version": 3
   },
   "file_extension": ".py",
   "mimetype": "text/x-python",
   "name": "python",
   "nbconvert_exporter": "python",
   "pygments_lexer": "ipython3",
   "version": "3.10.4"
  }
 },
 "nbformat": 4,
 "nbformat_minor": 5
}
