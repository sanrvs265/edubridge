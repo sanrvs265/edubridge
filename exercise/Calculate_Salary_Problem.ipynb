{
 "cells": [
  {
   "cell_type": "markdown",
   "id": "3109babc",
   "metadata": {},
   "source": [
    "### Read the question carefully and follow the input and output format."
   ]
  },
  {
   "cell_type": "markdown",
   "id": "f925ac9b",
   "metadata": {},
   "source": [
    "Karen got salary for this month and she spends 20% of her salary for food and 30% of her salary for travel. \n",
    "\n",
    "If she takes care of other shifts she will get 2% of the salary per day. \n",
    "\n",
    "Given her salary and the number of shifts she handled. \n",
    "\n",
    "Calculate how much she can save in her pocket after spending all these?"
   ]
  },
  {
   "cell_type": "markdown",
   "id": "34e20392",
   "metadata": {},
   "source": [
    "### Input and Output Format :"
   ]
  },
  {
   "cell_type": "markdown",
   "id": "ae0cecc9",
   "metadata": {},
   "source": [
    "First line of input consists of an integer, salary. \n",
    "\n",
    "Next line correspond to the number of shifts.\n",
    "\n",
    "Output consist of an integer, which is saving.\n",
    "\n",
    "1) Print \"Salary too large\" when salary is greater than 8000. \n",
    "\n",
    "2) Print \"Shifts too small\" when the shift is less than 0. \n",
    "\n",
    "3) Print \"Salary too small\" when the salary is less than 0. \n",
    "\n",
    "Include a function named calculateSal(int salary, int shifts) whose return type is an integer, which is the saving."
   ]
  },
  {
   "cell_type": "code",
   "execution_count": 10,
   "id": "b6464425",
   "metadata": {},
   "outputs": [],
   "source": [
    "def calculate_salary(salary,shifts): \n",
    "    if salary>8000:\n",
    "        print(\"Salary too large\")\n",
    "    elif salary<0:\n",
    "        print(\"Salary too small\")\n",
    "    elif shifts<0:\n",
    "        print(\"Shifts too small\")\n",
    "    else:\n",
    "        total_salary=salary+((salary*0.02)*shifts)\n",
    "        food_spends=salary*0.2\n",
    "        travel_spends=salary*0.3\n",
    "        total_spends=food_spends+travel_spends\n",
    "        total_savings=total_salary-total_spends\n",
    "        print(f\"Karen's Total Salary  : {int(total_salary)}\")\n",
    "        print(f\"Karen's Total Spends  : {int(total_spends)}\")\n",
    "        print(f\"Karen's Total Savings : {int(total_savings)}\")    "
   ]
  },
  {
   "cell_type": "code",
   "execution_count": 11,
   "id": "7781ad76",
   "metadata": {},
   "outputs": [
    {
     "name": "stdout",
     "output_type": "stream",
     "text": [
      "Enter Karen's Salary  : 4566\n",
      "Enter Karen's Shifts  : 3\n",
      "Karen's Total Salary  : 4839\n",
      "Karen's Total Spends  : 2283\n",
      "Karen's Total Savings : 2556\n"
     ]
    }
   ],
   "source": [
    "salary=int(input(\"Enter Karen's Salary  : \")) \n",
    "shifts=int(input(\"Enter Karen's Shifts  : \"))\n",
    "calculate_salary(salary,shifts) "
   ]
  }
 ],
 "metadata": {
  "kernelspec": {
   "display_name": "Python 3 (ipykernel)",
   "language": "python",
   "name": "python3"
  },
  "language_info": {
   "codemirror_mode": {
    "name": "ipython",
    "version": 3
   },
   "file_extension": ".py",
   "mimetype": "text/x-python",
   "name": "python",
   "nbconvert_exporter": "python",
   "pygments_lexer": "ipython3",
   "version": "3.10.4"
  }
 },
 "nbformat": 4,
 "nbformat_minor": 5
}
