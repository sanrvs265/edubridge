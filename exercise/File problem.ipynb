{
 "cells": [
  {
   "cell_type": "markdown",
   "id": "1dd2d92d",
   "metadata": {},
   "source": [
    "## Create a file and add the below values:\n",
    "\n",
    "5\n",
    "\n",
    "60 70 80 90 100\n",
    "\n",
    "55 65 75 58 60 \n",
    "\n",
    "70 60 80 90 67 \n",
    "\n",
    "89 76 56 43 90\n",
    "\n",
    "67 89 76 54 90"
   ]
  },
  {
   "cell_type": "code",
   "execution_count": 3,
   "id": "b83fb624",
   "metadata": {},
   "outputs": [
    {
     "name": "stdout",
     "output_type": "stream",
     "text": [
      "Enter the number of student:5\n",
      "60 70 80 90 100\n",
      "55 65 75 58 60\n",
      "70 60 80 90 67\n",
      "89 76 56 43 90\n",
      "67 89 76 54 90\n",
      "5\n",
      "60 70 80 90 100\n",
      "55 65 75 58 60\n",
      "70 60 80 90 67\n",
      "89 76 56 43 90\n",
      "67 89 76 54 90\n",
      "\n"
     ]
    }
   ],
   "source": [
    "with open(\"Grades.txt\",\"w+\") as gd:\n",
    "    n=int(input(\"Enter the number of student:\"))\n",
    "    gd.write(str(n)+\"\\n\")\n",
    "    for i in range(n):\n",
    "        gd.write(input()+\"\\n\")\n",
    "    gd.seek(0)\n",
    "    print(gd.read())\n"
   ]
  },
  {
   "cell_type": "code",
   "execution_count": 3,
   "id": "b1a20e2e",
   "metadata": {},
   "outputs": [
    {
     "name": "stdout",
     "output_type": "stream",
     "text": [
      "Student 1 percentage is : 80.0\n",
      "Student 2 percentage is : 62.6\n",
      "Student 3 percentage is : 73.4\n",
      "Student 4 percentage is : 70.8\n",
      "Student 5 percentage is : 75.2\n"
     ]
    }
   ],
   "source": [
    "with open(\"Grades.txt\",\"r\") as g:\n",
    "    g.seek(0)\n",
    "    g.readline()\n",
    "    c=1\n",
    "    for i in range(5):\n",
    "        l=g.readline().split()\n",
    "        el=[]\n",
    "        for j in l:\n",
    "            if j.isdigit():\n",
    "                el.append(int(j))\n",
    "        t=sum(el)/len(el)\n",
    "        print(f\"Student {c} percentage is : {t}\")\n",
    "        c+=1"
   ]
  }
 ],
 "metadata": {
  "kernelspec": {
   "display_name": "Python 3 (ipykernel)",
   "language": "python",
   "name": "python3"
  },
  "language_info": {
   "codemirror_mode": {
    "name": "ipython",
    "version": 3
   },
   "file_extension": ".py",
   "mimetype": "text/x-python",
   "name": "python",
   "nbconvert_exporter": "python",
   "pygments_lexer": "ipython3",
   "version": "3.10.4"
  }
 },
 "nbformat": 4,
 "nbformat_minor": 5
}
