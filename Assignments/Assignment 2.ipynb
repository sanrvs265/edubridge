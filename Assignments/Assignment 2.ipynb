{
 "cells": [
  {
   "cell_type": "markdown",
   "id": "d7bd4237",
   "metadata": {},
   "source": [
    "WEEK-2: Assignment - Probability Distribution"
   ]
  },
  {
   "cell_type": "markdown",
   "id": "79622974",
   "metadata": {},
   "source": [
    "1.Calculate Probabilities Using a Binomial Distribution"
   ]
  },
  {
   "cell_type": "markdown",
   "id": "1ee0a312",
   "metadata": {},
   "source": [
    "Q1.1. Pavan kumar makes 65% of his free-throw attempts. If he shoots 15 free throws, what is the probability that he makes exactly 10?\n",
    "\n",
    "k=10\n",
    "n=15\n",
    "p=0.65\n"
   ]
  },
  {
   "cell_type": "code",
   "execution_count": 3,
   "id": "00ae4be2",
   "metadata": {},
   "outputs": [
    {
     "data": {
      "text/plain": [
       "0.2123386834880357"
      ]
     },
     "execution_count": 3,
     "metadata": {},
     "output_type": "execute_result"
    }
   ],
   "source": [
    "from scipy.stats import binom\n",
    "binom.pmf(10,15,0.65)"
   ]
  },
  {
   "cell_type": "markdown",
   "id": "4610e408",
   "metadata": {},
   "source": [
    "\n",
    "Q1.2.Shivam flips a fair coin 6 times. What is the probability that the coin lands on heads 3 times or fewer?\n",
    "\n",
    "n=6\n",
    "k=3\n",
    "p=0.5\n",
    "\n",
    "n=6\n",
    "k=0\n",
    "p=0.5"
   ]
  },
  {
   "cell_type": "code",
   "execution_count": 7,
   "id": "b669f642",
   "metadata": {},
   "outputs": [
    {
     "name": "stdout",
     "output_type": "stream",
     "text": [
      "0.640625\n"
     ]
    }
   ],
   "source": [
    "from scipy.stats import binom\n",
    "for3times=binom.cdf(3,6,0.5)\n",
    "forfewer=binom.cdf(0,6,0.5)\n",
    "result=for3times-forfewer\n",
    "print(result)\n"
   ]
  },
  {
   "cell_type": "markdown",
   "id": "ca02fbdb",
   "metadata": {},
   "source": [
    "Q1.3.It is known that 65% of individuals support a certain law. If 10 individuals are randomly selected, what is the probability that between 3 and 6 of them support the law?\n",
    "\n",
    "k=6,3\n",
    "n=10\n",
    "p=.65"
   ]
  },
  {
   "cell_type": "code",
   "execution_count": 8,
   "id": "05af1c30",
   "metadata": {},
   "outputs": [
    {
     "data": {
      "text/plain": [
       "0.4601487031476562"
      ]
     },
     "execution_count": 8,
     "metadata": {},
     "output_type": "execute_result"
    }
   ],
   "source": [
    "from scipy.stats import binom\n",
    "binom.cdf(6,10,.65)-binom.cdf(3,10,.65)"
   ]
  },
  {
   "cell_type": "markdown",
   "id": "36a70337",
   "metadata": {},
   "source": [
    "2.Calculate Probabilities Using a Poisson Distribution\n"
   ]
  },
  {
   "cell_type": "markdown",
   "id": "d21efd98",
   "metadata": {},
   "source": [
    "Q2.1. A store sells 4 apples per day on average. What is the probability that they will sell 6 apples on a given day?"
   ]
  },
  {
   "cell_type": "code",
   "execution_count": 10,
   "id": "0d6c89f1",
   "metadata": {},
   "outputs": [
    {
     "data": {
      "text/plain": [
       "0.10419563456702102"
      ]
     },
     "execution_count": 10,
     "metadata": {},
     "output_type": "execute_result"
    }
   ],
   "source": [
    "from scipy.stats import poisson\n",
    "poisson.pmf(6,4)"
   ]
  },
  {
   "cell_type": "markdown",
   "id": "592bacd3",
   "metadata": {},
   "source": [
    "Q2.2. A certain store sells seven footballs per day on average. What is the probability that this store sells four or less footballs in a given day?"
   ]
  },
  {
   "cell_type": "code",
   "execution_count": 14,
   "id": "a96d6c21",
   "metadata": {},
   "outputs": [
    {
     "data": {
      "text/plain": [
       "0.17207972591651693"
      ]
     },
     "execution_count": 14,
     "metadata": {},
     "output_type": "execute_result"
    }
   ],
   "source": [
    "from scipy.stats import poisson\n",
    "poisson.cdf(4,7)- poisson.cdf(0,7)"
   ]
  },
  {
   "cell_type": "markdown",
   "id": "9d455137",
   "metadata": {},
   "source": [
    "Q2.3. A certain store sells 15 cans of tuna per day on average. What is the probability that this store sells more than 20 cans of tuna in a given day?"
   ]
  },
  {
   "cell_type": "code",
   "execution_count": 15,
   "id": "0ec19112",
   "metadata": {},
   "outputs": [
    {
     "data": {
      "text/plain": [
       "0.08297091003146029"
      ]
     },
     "execution_count": 15,
     "metadata": {},
     "output_type": "execute_result"
    }
   ],
   "source": [
    "from scipy.stats import poisson\n",
    "1-poisson.cdf(20,15)"
   ]
  },
  {
   "cell_type": "markdown",
   "id": "9c1ed78a",
   "metadata": {},
   "source": [
    "\n",
    "3.Calculate Probabilities Using a Uniform Distribution"
   ]
  },
  {
   "cell_type": "markdown",
   "id": "999269ab",
   "metadata": {},
   "source": [
    "\n",
    "Q3.1. Suppose a bus shows up at a bus stop every 20 minutes. If you arrive at the bus stop, what is the probability that the bus will show up in 8 minutes or less?"
   ]
  },
  {
   "cell_type": "code",
   "execution_count": 17,
   "id": "a23e614a",
   "metadata": {},
   "outputs": [
    {
     "data": {
      "text/plain": [
       "0.4"
      ]
     },
     "execution_count": 17,
     "metadata": {},
     "output_type": "execute_result"
    }
   ],
   "source": [
    "from scipy.stats import uniform\n",
    "uniform.cdf(8,0,20)-uniform.cdf(0,0,20)"
   ]
  },
  {
   "cell_type": "markdown",
   "id": "3ef1524e",
   "metadata": {},
   "source": [
    "Q3.2.The weight of a certain species of frog is uniformly distributed between 15 and 25 grams. If you randomly select a frog, what is the probability that the frog weighs between 17 and 19 grams?"
   ]
  },
  {
   "cell_type": "code",
   "execution_count": 18,
   "id": "b5ddeb87",
   "metadata": {},
   "outputs": [
    {
     "data": {
      "text/plain": [
       "0.2"
      ]
     },
     "execution_count": 18,
     "metadata": {},
     "output_type": "execute_result"
    }
   ],
   "source": [
    "uniform.cdf(19,15,10)-uniform.cdf(17,15,10)"
   ]
  },
  {
   "cell_type": "markdown",
   "id": "f37813f7",
   "metadata": {},
   "source": [
    "Q3.3.The length of an NBA game is uniformly distributed between 120 and 170 minutes. What is the probability that a randomly selected NBA game lasts more than 150 minutes?"
   ]
  },
  {
   "cell_type": "code",
   "execution_count": 19,
   "id": "2b70a291",
   "metadata": {},
   "outputs": [
    {
     "data": {
      "text/plain": [
       "0.4"
      ]
     },
     "execution_count": 19,
     "metadata": {},
     "output_type": "execute_result"
    }
   ],
   "source": [
    "1-uniform.cdf(150,120,50)"
   ]
  },
  {
   "cell_type": "markdown",
   "id": "be113618",
   "metadata": {},
   "source": [
    "4.Calculate Probabilities Using a Normal Distribution"
   ]
  },
  {
   "cell_type": "markdown",
   "id": "d2cf22fc",
   "metadata": {},
   "source": [
    "\n",
    "Q4.1.A radar unit is used to measure speeds of cars on a motorway. The speeds are normally distributed with a mean of 90 km/hr and a standard deviation of 10 km/hr. What is the probability that a car picked at random is travelling at more than 100 km/hr?"
   ]
  },
  {
   "cell_type": "code",
   "execution_count": 21,
   "id": "8ef011f6",
   "metadata": {},
   "outputs": [
    {
     "data": {
      "text/plain": [
       "0.15865525393145707"
      ]
     },
     "execution_count": 21,
     "metadata": {},
     "output_type": "execute_result"
    }
   ],
   "source": [
    "from scipy.stats import norm\n",
    "1-norm.cdf(100,90,10)"
   ]
  },
  {
   "cell_type": "markdown",
   "id": "30b1ad28",
   "metadata": {},
   "source": [
    "Q4.2.For a certain type of computers, the length of time bewteen charges of the battery is normally distributed with a mean of 50 hours and a standard deviation of 15 hours. John owns one of these computers and wants to know the probability that the length of time will be between 50 and 70 hours."
   ]
  },
  {
   "cell_type": "code",
   "execution_count": 22,
   "id": "0afb7db9",
   "metadata": {},
   "outputs": [
    {
     "data": {
      "text/plain": [
       "0.4087887802741321"
      ]
     },
     "execution_count": 22,
     "metadata": {},
     "output_type": "execute_result"
    }
   ],
   "source": [
    "norm.cdf(70,50,15)-norm.cdf(50,50,15)"
   ]
  },
  {
   "cell_type": "markdown",
   "id": "75403106",
   "metadata": {},
   "source": [
    "Q4.3.Entry to a certain University is determined by a national test. The scores on this test are normally distributed with a mean of 500 and a standard deviation of 100. Tom wants to be admitted to this university and he knows that he must score better than at least 70% of the students who took the test. Tom takes the test and scores 585. Will he be admitted to this university?"
   ]
  },
  {
   "cell_type": "code",
   "execution_count": 26,
   "id": "df83facd",
   "metadata": {},
   "outputs": [
    {
     "name": "stdout",
     "output_type": "stream",
     "text": [
      "Tom will admited to this university\n"
     ]
    }
   ],
   "source": [
    "a=1-norm.cdf(585,500,100)\n",
    "if a<1*0.3 :\n",
    "    print(\"Tom will admited to this university\")\n",
    "else :\n",
    "    print(\"Tom not admited to this university\")"
   ]
  },
  {
   "cell_type": "code",
   "execution_count": null,
   "id": "4cfe29e7",
   "metadata": {},
   "outputs": [],
   "source": []
  }
 ],
 "metadata": {
  "kernelspec": {
   "display_name": "Python 3 (ipykernel)",
   "language": "python",
   "name": "python3"
  },
  "language_info": {
   "codemirror_mode": {
    "name": "ipython",
    "version": 3
   },
   "file_extension": ".py",
   "mimetype": "text/x-python",
   "name": "python",
   "nbconvert_exporter": "python",
   "pygments_lexer": "ipython3",
   "version": "3.9.7"
  }
 },
 "nbformat": 4,
 "nbformat_minor": 5
}
